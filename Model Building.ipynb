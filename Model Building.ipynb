{
 "cells": [
  {
   "cell_type": "markdown",
   "metadata": {},
   "source": [
    "# Model Building"
   ]
  },
  {
   "cell_type": "markdown",
   "metadata": {},
   "source": [
    "We are going to use ensemble learning algorithms to build the model. Before building and training the model, we need to separate the dependent variable and split the dataset into training and testing set."
   ]
  },
  {
   "cell_type": "code",
   "execution_count": 1,
   "metadata": {},
   "outputs": [],
   "source": [
    "##Importing Libraries\n",
    "import pandas as pd\n",
    "import numpy as np\n",
    "import seaborn as sns\n",
    "import sklearn\n",
    "import matplotlib.pyplot as plt "
   ]
  },
  {
   "cell_type": "code",
   "execution_count": 2,
   "metadata": {},
   "outputs": [],
   "source": [
    "## For ignoring warnings to view clean output\n",
    "import warnings\n",
    "from sklearn.exceptions import ConvergenceWarning\n",
    "warnings.filterwarnings(\"ignore\", category=FutureWarning)\n",
    "warnings.filterwarnings(\"ignore\", category=ConvergenceWarning)\n",
    "warnings.filterwarnings(\"ignore\", category=DeprecationWarning)"
   ]
  },
  {
   "cell_type": "code",
   "execution_count": 3,
   "metadata": {},
   "outputs": [],
   "source": [
    "## Importing the dataset\n",
    "df = pd.read_csv('cleaned.csv',header=0)"
   ]
  },
  {
   "cell_type": "code",
   "execution_count": 4,
   "metadata": {},
   "outputs": [
    {
     "data": {
      "text/html": [
       "<div>\n",
       "<style scoped>\n",
       "    .dataframe tbody tr th:only-of-type {\n",
       "        vertical-align: middle;\n",
       "    }\n",
       "\n",
       "    .dataframe tbody tr th {\n",
       "        vertical-align: top;\n",
       "    }\n",
       "\n",
       "    .dataframe thead th {\n",
       "        text-align: right;\n",
       "    }\n",
       "</style>\n",
       "<table border=\"1\" class=\"dataframe\">\n",
       "  <thead>\n",
       "    <tr style=\"text-align: right;\">\n",
       "      <th></th>\n",
       "      <th>Year</th>\n",
       "      <th>Location</th>\n",
       "      <th>Soil Type</th>\n",
       "      <th>Max_Temperature</th>\n",
       "      <th>Min_Teperature</th>\n",
       "      <th>Rainfall</th>\n",
       "      <th>Humidity</th>\n",
       "      <th>Yield Kg/ha</th>\n",
       "    </tr>\n",
       "  </thead>\n",
       "  <tbody>\n",
       "    <tr>\n",
       "      <th>73</th>\n",
       "      <td>2019</td>\n",
       "      <td>Chefe Donsa</td>\n",
       "      <td>Black Soil</td>\n",
       "      <td>22.5</td>\n",
       "      <td>14.0</td>\n",
       "      <td>811.2</td>\n",
       "      <td>70.0</td>\n",
       "      <td>380.0</td>\n",
       "    </tr>\n",
       "    <tr>\n",
       "      <th>5365</th>\n",
       "      <td>2019</td>\n",
       "      <td>DZ-BS</td>\n",
       "      <td>Black Soil</td>\n",
       "      <td>30.0</td>\n",
       "      <td>13.0</td>\n",
       "      <td>811.2</td>\n",
       "      <td>46.0</td>\n",
       "      <td>1100.0</td>\n",
       "    </tr>\n",
       "    <tr>\n",
       "      <th>1910</th>\n",
       "      <td>2018</td>\n",
       "      <td>DZ-BS</td>\n",
       "      <td>Black Soil</td>\n",
       "      <td>26.5</td>\n",
       "      <td>12.0</td>\n",
       "      <td>543.8</td>\n",
       "      <td>70.0</td>\n",
       "      <td>2186.0</td>\n",
       "    </tr>\n",
       "    <tr>\n",
       "      <th>1490</th>\n",
       "      <td>2018</td>\n",
       "      <td>DZ-LS</td>\n",
       "      <td>Light Soil</td>\n",
       "      <td>29.5</td>\n",
       "      <td>12.5</td>\n",
       "      <td>543.8</td>\n",
       "      <td>62.0</td>\n",
       "      <td>2185.0</td>\n",
       "    </tr>\n",
       "    <tr>\n",
       "      <th>397</th>\n",
       "      <td>2019</td>\n",
       "      <td>Akaki</td>\n",
       "      <td>Black Soil</td>\n",
       "      <td>32.0</td>\n",
       "      <td>13.0</td>\n",
       "      <td>811.2</td>\n",
       "      <td>50.0</td>\n",
       "      <td>110.0</td>\n",
       "    </tr>\n",
       "    <tr>\n",
       "      <th>632</th>\n",
       "      <td>2019</td>\n",
       "      <td>DZ-BS</td>\n",
       "      <td>Black Soil</td>\n",
       "      <td>25.0</td>\n",
       "      <td>14.5</td>\n",
       "      <td>811.2</td>\n",
       "      <td>50.0</td>\n",
       "      <td>1840.0</td>\n",
       "    </tr>\n",
       "    <tr>\n",
       "      <th>4576</th>\n",
       "      <td>2019</td>\n",
       "      <td>Akaki</td>\n",
       "      <td>Black Soil</td>\n",
       "      <td>25.5</td>\n",
       "      <td>14.0</td>\n",
       "      <td>811.2</td>\n",
       "      <td>47.0</td>\n",
       "      <td>290.0</td>\n",
       "    </tr>\n",
       "    <tr>\n",
       "      <th>6330</th>\n",
       "      <td>2014</td>\n",
       "      <td>Chefe Donsa</td>\n",
       "      <td>Black Soil</td>\n",
       "      <td>25.0</td>\n",
       "      <td>12.5</td>\n",
       "      <td>559.8</td>\n",
       "      <td>72.0</td>\n",
       "      <td>254.0</td>\n",
       "    </tr>\n",
       "    <tr>\n",
       "      <th>4708</th>\n",
       "      <td>2019</td>\n",
       "      <td>DZ-BS</td>\n",
       "      <td>Black Soil</td>\n",
       "      <td>26.0</td>\n",
       "      <td>15.5</td>\n",
       "      <td>811.2</td>\n",
       "      <td>44.0</td>\n",
       "      <td>750.0</td>\n",
       "    </tr>\n",
       "    <tr>\n",
       "      <th>6765</th>\n",
       "      <td>2014</td>\n",
       "      <td>Chefe Donsa</td>\n",
       "      <td>Black Soil</td>\n",
       "      <td>23.5</td>\n",
       "      <td>12.0</td>\n",
       "      <td>559.8</td>\n",
       "      <td>53.0</td>\n",
       "      <td>655.0</td>\n",
       "    </tr>\n",
       "  </tbody>\n",
       "</table>\n",
       "</div>"
      ],
      "text/plain": [
       "      Year     Location   Soil Type  Max_Temperature  Min_Teperature  \\\n",
       "73    2019  Chefe Donsa  Black Soil             22.5            14.0   \n",
       "5365  2019        DZ-BS  Black Soil             30.0            13.0   \n",
       "1910  2018        DZ-BS  Black Soil             26.5            12.0   \n",
       "1490  2018        DZ-LS  Light Soil             29.5            12.5   \n",
       "397   2019        Akaki  Black Soil             32.0            13.0   \n",
       "632   2019        DZ-BS  Black Soil             25.0            14.5   \n",
       "4576  2019        Akaki  Black Soil             25.5            14.0   \n",
       "6330  2014  Chefe Donsa  Black Soil             25.0            12.5   \n",
       "4708  2019        DZ-BS  Black Soil             26.0            15.5   \n",
       "6765  2014  Chefe Donsa  Black Soil             23.5            12.0   \n",
       "\n",
       "      Rainfall  Humidity  Yield Kg/ha  \n",
       "73       811.2      70.0        380.0  \n",
       "5365     811.2      46.0       1100.0  \n",
       "1910     543.8      70.0       2186.0  \n",
       "1490     543.8      62.0       2185.0  \n",
       "397      811.2      50.0        110.0  \n",
       "632      811.2      50.0       1840.0  \n",
       "4576     811.2      47.0        290.0  \n",
       "6330     559.8      72.0        254.0  \n",
       "4708     811.2      44.0        750.0  \n",
       "6765     559.8      53.0        655.0  "
      ]
     },
     "execution_count": 4,
     "metadata": {},
     "output_type": "execute_result"
    }
   ],
   "source": [
    "df.sample(10)"
   ]
  },
  {
   "cell_type": "code",
   "execution_count": 5,
   "metadata": {},
   "outputs": [],
   "source": [
    "df.drop(['Year'],axis=1, inplace=True)"
   ]
  },
  {
   "cell_type": "code",
   "execution_count": 6,
   "metadata": {},
   "outputs": [
    {
     "data": {
      "text/html": [
       "<div>\n",
       "<style scoped>\n",
       "    .dataframe tbody tr th:only-of-type {\n",
       "        vertical-align: middle;\n",
       "    }\n",
       "\n",
       "    .dataframe tbody tr th {\n",
       "        vertical-align: top;\n",
       "    }\n",
       "\n",
       "    .dataframe thead th {\n",
       "        text-align: right;\n",
       "    }\n",
       "</style>\n",
       "<table border=\"1\" class=\"dataframe\">\n",
       "  <thead>\n",
       "    <tr style=\"text-align: right;\">\n",
       "      <th></th>\n",
       "      <th>Location</th>\n",
       "      <th>Soil Type</th>\n",
       "      <th>Max_Temperature</th>\n",
       "      <th>Min_Teperature</th>\n",
       "      <th>Rainfall</th>\n",
       "      <th>Humidity</th>\n",
       "      <th>Yield Kg/ha</th>\n",
       "    </tr>\n",
       "  </thead>\n",
       "  <tbody>\n",
       "    <tr>\n",
       "      <th>0</th>\n",
       "      <td>Chefe Donsa</td>\n",
       "      <td>Black Soil</td>\n",
       "      <td>31.0</td>\n",
       "      <td>13.0</td>\n",
       "      <td>811.2</td>\n",
       "      <td>68.0</td>\n",
       "      <td>980.0</td>\n",
       "    </tr>\n",
       "    <tr>\n",
       "      <th>1</th>\n",
       "      <td>Chefe Donsa</td>\n",
       "      <td>Black Soil</td>\n",
       "      <td>30.5</td>\n",
       "      <td>16.0</td>\n",
       "      <td>811.2</td>\n",
       "      <td>72.0</td>\n",
       "      <td>670.0</td>\n",
       "    </tr>\n",
       "    <tr>\n",
       "      <th>2</th>\n",
       "      <td>Chefe Donsa</td>\n",
       "      <td>Black Soil</td>\n",
       "      <td>29.5</td>\n",
       "      <td>14.0</td>\n",
       "      <td>811.2</td>\n",
       "      <td>68.0</td>\n",
       "      <td>730.0</td>\n",
       "    </tr>\n",
       "    <tr>\n",
       "      <th>3</th>\n",
       "      <td>Chefe Donsa</td>\n",
       "      <td>Black Soil</td>\n",
       "      <td>30.0</td>\n",
       "      <td>13.0</td>\n",
       "      <td>811.2</td>\n",
       "      <td>54.0</td>\n",
       "      <td>710.0</td>\n",
       "    </tr>\n",
       "    <tr>\n",
       "      <th>4</th>\n",
       "      <td>Chefe Donsa</td>\n",
       "      <td>Black Soil</td>\n",
       "      <td>31.0</td>\n",
       "      <td>12.0</td>\n",
       "      <td>811.2</td>\n",
       "      <td>70.0</td>\n",
       "      <td>780.0</td>\n",
       "    </tr>\n",
       "  </tbody>\n",
       "</table>\n",
       "</div>"
      ],
      "text/plain": [
       "      Location   Soil Type  Max_Temperature  Min_Teperature  Rainfall  \\\n",
       "0  Chefe Donsa  Black Soil             31.0            13.0     811.2   \n",
       "1  Chefe Donsa  Black Soil             30.5            16.0     811.2   \n",
       "2  Chefe Donsa  Black Soil             29.5            14.0     811.2   \n",
       "3  Chefe Donsa  Black Soil             30.0            13.0     811.2   \n",
       "4  Chefe Donsa  Black Soil             31.0            12.0     811.2   \n",
       "\n",
       "   Humidity  Yield Kg/ha  \n",
       "0      68.0        980.0  \n",
       "1      72.0        670.0  \n",
       "2      68.0        730.0  \n",
       "3      54.0        710.0  \n",
       "4      70.0        780.0  "
      ]
     },
     "execution_count": 6,
     "metadata": {},
     "output_type": "execute_result"
    }
   ],
   "source": [
    "df.head()"
   ]
  },
  {
   "cell_type": "code",
   "execution_count": 7,
   "metadata": {},
   "outputs": [
    {
     "data": {
      "text/plain": [
       "(8077, 7)"
      ]
     },
     "execution_count": 7,
     "metadata": {},
     "output_type": "execute_result"
    }
   ],
   "source": [
    "df.shape"
   ]
  },
  {
   "cell_type": "code",
   "execution_count": 8,
   "metadata": {},
   "outputs": [],
   "source": [
    "### Separating Independent and Dependent feature\n",
    "X = df.iloc[:,:-1]\n",
    "y = df.iloc[:, 6]"
   ]
  },
  {
   "cell_type": "code",
   "execution_count": 9,
   "metadata": {},
   "outputs": [
    {
     "data": {
      "text/html": [
       "<div>\n",
       "<style scoped>\n",
       "    .dataframe tbody tr th:only-of-type {\n",
       "        vertical-align: middle;\n",
       "    }\n",
       "\n",
       "    .dataframe tbody tr th {\n",
       "        vertical-align: top;\n",
       "    }\n",
       "\n",
       "    .dataframe thead th {\n",
       "        text-align: right;\n",
       "    }\n",
       "</style>\n",
       "<table border=\"1\" class=\"dataframe\">\n",
       "  <thead>\n",
       "    <tr style=\"text-align: right;\">\n",
       "      <th></th>\n",
       "      <th>Location</th>\n",
       "      <th>Soil Type</th>\n",
       "      <th>Max_Temperature</th>\n",
       "      <th>Min_Teperature</th>\n",
       "      <th>Rainfall</th>\n",
       "      <th>Humidity</th>\n",
       "    </tr>\n",
       "  </thead>\n",
       "  <tbody>\n",
       "    <tr>\n",
       "      <th>0</th>\n",
       "      <td>Chefe Donsa</td>\n",
       "      <td>Black Soil</td>\n",
       "      <td>31.0</td>\n",
       "      <td>13.0</td>\n",
       "      <td>811.2</td>\n",
       "      <td>68.0</td>\n",
       "    </tr>\n",
       "    <tr>\n",
       "      <th>1</th>\n",
       "      <td>Chefe Donsa</td>\n",
       "      <td>Black Soil</td>\n",
       "      <td>30.5</td>\n",
       "      <td>16.0</td>\n",
       "      <td>811.2</td>\n",
       "      <td>72.0</td>\n",
       "    </tr>\n",
       "    <tr>\n",
       "      <th>2</th>\n",
       "      <td>Chefe Donsa</td>\n",
       "      <td>Black Soil</td>\n",
       "      <td>29.5</td>\n",
       "      <td>14.0</td>\n",
       "      <td>811.2</td>\n",
       "      <td>68.0</td>\n",
       "    </tr>\n",
       "    <tr>\n",
       "      <th>3</th>\n",
       "      <td>Chefe Donsa</td>\n",
       "      <td>Black Soil</td>\n",
       "      <td>30.0</td>\n",
       "      <td>13.0</td>\n",
       "      <td>811.2</td>\n",
       "      <td>54.0</td>\n",
       "    </tr>\n",
       "    <tr>\n",
       "      <th>4</th>\n",
       "      <td>Chefe Donsa</td>\n",
       "      <td>Black Soil</td>\n",
       "      <td>31.0</td>\n",
       "      <td>12.0</td>\n",
       "      <td>811.2</td>\n",
       "      <td>70.0</td>\n",
       "    </tr>\n",
       "  </tbody>\n",
       "</table>\n",
       "</div>"
      ],
      "text/plain": [
       "      Location   Soil Type  Max_Temperature  Min_Teperature  Rainfall  \\\n",
       "0  Chefe Donsa  Black Soil             31.0            13.0     811.2   \n",
       "1  Chefe Donsa  Black Soil             30.5            16.0     811.2   \n",
       "2  Chefe Donsa  Black Soil             29.5            14.0     811.2   \n",
       "3  Chefe Donsa  Black Soil             30.0            13.0     811.2   \n",
       "4  Chefe Donsa  Black Soil             31.0            12.0     811.2   \n",
       "\n",
       "   Humidity  \n",
       "0      68.0  \n",
       "1      72.0  \n",
       "2      68.0  \n",
       "3      54.0  \n",
       "4      70.0  "
      ]
     },
     "execution_count": 9,
     "metadata": {},
     "output_type": "execute_result"
    }
   ],
   "source": [
    "X.head()"
   ]
  },
  {
   "cell_type": "code",
   "execution_count": 10,
   "metadata": {},
   "outputs": [
    {
     "data": {
      "text/plain": [
       "(8077, 6)"
      ]
     },
     "execution_count": 10,
     "metadata": {},
     "output_type": "execute_result"
    }
   ],
   "source": [
    "X.shape"
   ]
  },
  {
   "cell_type": "code",
   "execution_count": 11,
   "metadata": {},
   "outputs": [
    {
     "data": {
      "text/plain": [
       "0    980.0\n",
       "1    670.0\n",
       "2    730.0\n",
       "3    710.0\n",
       "4    780.0\n",
       "Name: Yield Kg/ha, dtype: float64"
      ]
     },
     "execution_count": 11,
     "metadata": {},
     "output_type": "execute_result"
    }
   ],
   "source": [
    "y.head()"
   ]
  },
  {
   "cell_type": "markdown",
   "metadata": {},
   "source": [
    "### Data Transformation\n",
    "#### Handling Categorical Variables - Creating Dummy Variables( Changing the categorical value to numeric(0,1))"
   ]
  },
  {
   "cell_type": "code",
   "execution_count": 12,
   "metadata": {},
   "outputs": [
    {
     "data": {
      "text/plain": [
       "(8077, 12)"
      ]
     },
     "execution_count": 12,
     "metadata": {},
     "output_type": "execute_result"
    }
   ],
   "source": [
    "# Shows the number of columns after creating dummy variables\n",
    "pd.get_dummies(df,drop_first=True).shape"
   ]
  },
  {
   "cell_type": "code",
   "execution_count": 13,
   "metadata": {},
   "outputs": [],
   "source": [
    "X = pd.get_dummies(X, drop_first=True)"
   ]
  },
  {
   "cell_type": "code",
   "execution_count": 14,
   "metadata": {},
   "outputs": [
    {
     "data": {
      "text/html": [
       "<div>\n",
       "<style scoped>\n",
       "    .dataframe tbody tr th:only-of-type {\n",
       "        vertical-align: middle;\n",
       "    }\n",
       "\n",
       "    .dataframe tbody tr th {\n",
       "        vertical-align: top;\n",
       "    }\n",
       "\n",
       "    .dataframe thead th {\n",
       "        text-align: right;\n",
       "    }\n",
       "</style>\n",
       "<table border=\"1\" class=\"dataframe\">\n",
       "  <thead>\n",
       "    <tr style=\"text-align: right;\">\n",
       "      <th></th>\n",
       "      <th>Max_Temperature</th>\n",
       "      <th>Min_Teperature</th>\n",
       "      <th>Rainfall</th>\n",
       "      <th>Humidity</th>\n",
       "      <th>Location_Alemtena</th>\n",
       "      <th>Location_Chefe Donsa</th>\n",
       "      <th>Location_DZ-BS</th>\n",
       "      <th>Location_DZ-LS</th>\n",
       "      <th>Location_Denkaka</th>\n",
       "      <th>Location_Minjar</th>\n",
       "      <th>Soil Type_Light Soil</th>\n",
       "    </tr>\n",
       "  </thead>\n",
       "  <tbody>\n",
       "    <tr>\n",
       "      <th>4420</th>\n",
       "      <td>25.5</td>\n",
       "      <td>14.5</td>\n",
       "      <td>811.2</td>\n",
       "      <td>53.0</td>\n",
       "      <td>0</td>\n",
       "      <td>0</td>\n",
       "      <td>1</td>\n",
       "      <td>0</td>\n",
       "      <td>0</td>\n",
       "      <td>0</td>\n",
       "      <td>0</td>\n",
       "    </tr>\n",
       "    <tr>\n",
       "      <th>6401</th>\n",
       "      <td>26.5</td>\n",
       "      <td>13.0</td>\n",
       "      <td>559.8</td>\n",
       "      <td>45.0</td>\n",
       "      <td>0</td>\n",
       "      <td>0</td>\n",
       "      <td>1</td>\n",
       "      <td>0</td>\n",
       "      <td>0</td>\n",
       "      <td>0</td>\n",
       "      <td>0</td>\n",
       "    </tr>\n",
       "    <tr>\n",
       "      <th>2954</th>\n",
       "      <td>24.5</td>\n",
       "      <td>15.0</td>\n",
       "      <td>543.8</td>\n",
       "      <td>54.0</td>\n",
       "      <td>0</td>\n",
       "      <td>0</td>\n",
       "      <td>0</td>\n",
       "      <td>0</td>\n",
       "      <td>1</td>\n",
       "      <td>0</td>\n",
       "      <td>0</td>\n",
       "    </tr>\n",
       "    <tr>\n",
       "      <th>841</th>\n",
       "      <td>23.5</td>\n",
       "      <td>10.0</td>\n",
       "      <td>811.2</td>\n",
       "      <td>53.0</td>\n",
       "      <td>0</td>\n",
       "      <td>0</td>\n",
       "      <td>1</td>\n",
       "      <td>0</td>\n",
       "      <td>0</td>\n",
       "      <td>0</td>\n",
       "      <td>0</td>\n",
       "    </tr>\n",
       "  </tbody>\n",
       "</table>\n",
       "</div>"
      ],
      "text/plain": [
       "      Max_Temperature  Min_Teperature  Rainfall  Humidity  Location_Alemtena  \\\n",
       "4420             25.5            14.5     811.2      53.0                  0   \n",
       "6401             26.5            13.0     559.8      45.0                  0   \n",
       "2954             24.5            15.0     543.8      54.0                  0   \n",
       "841              23.5            10.0     811.2      53.0                  0   \n",
       "\n",
       "      Location_Chefe Donsa  Location_DZ-BS  Location_DZ-LS  Location_Denkaka  \\\n",
       "4420                     0               1               0                 0   \n",
       "6401                     0               1               0                 0   \n",
       "2954                     0               0               0                 1   \n",
       "841                      0               1               0                 0   \n",
       "\n",
       "      Location_Minjar  Soil Type_Light Soil  \n",
       "4420                0                     0  \n",
       "6401                0                     0  \n",
       "2954                0                     0  \n",
       "841                 0                     0  "
      ]
     },
     "execution_count": 14,
     "metadata": {},
     "output_type": "execute_result"
    }
   ],
   "source": [
    "X.sample(4)"
   ]
  },
  {
   "cell_type": "code",
   "execution_count": 15,
   "metadata": {},
   "outputs": [
    {
     "data": {
      "text/plain": [
       "(8077, 11)"
      ]
     },
     "execution_count": 15,
     "metadata": {},
     "output_type": "execute_result"
    }
   ],
   "source": [
    "X.shape"
   ]
  },
  {
   "cell_type": "markdown",
   "metadata": {},
   "source": [
    "### Standardization \n",
    "Before building the model we need to standardize the features"
   ]
  },
  {
   "cell_type": "code",
   "execution_count": 26,
   "metadata": {},
   "outputs": [],
   "source": [
    "from sklearn.preprocessing import StandardScaler\n",
    "scaler = StandardScaler()\n",
    "X = scaler.fit_transform(X)"
   ]
  },
  {
   "cell_type": "code",
   "execution_count": null,
   "metadata": {},
   "outputs": [],
   "source": []
  },
  {
   "cell_type": "code",
   "execution_count": 27,
   "metadata": {},
   "outputs": [
    {
     "name": "stdout",
     "output_type": "stream",
     "text": [
      "Mean of the dataset: -0.0\n",
      "Standard deviation of the dataset:  1.0\n"
     ]
    }
   ],
   "source": [
    "## shows the wheather the features are in standardized format or not\n",
    "print(\"Mean of the dataset:\", np.mean(X).round(8))\n",
    "print(\"Standard deviation of the dataset: \", np.std(X).round(8))"
   ]
  },
  {
   "cell_type": "markdown",
   "metadata": {},
   "source": [
    "### Splitting the dataset into training and testing set"
   ]
  },
  {
   "cell_type": "code",
   "execution_count": 29,
   "metadata": {},
   "outputs": [],
   "source": [
    "from sklearn.model_selection import train_test_split\n",
    "X_train, X_test, y_train, y_test = train_test_split(X, y, test_size=0.2, random_state=0)"
   ]
  },
  {
   "cell_type": "code",
   "execution_count": 20,
   "metadata": {},
   "outputs": [
    {
     "name": "stdout",
     "output_type": "stream",
     "text": [
      "(6461, 11)\n",
      "(1616, 11)\n",
      "(6461,)\n",
      "(1616,)\n"
     ]
    }
   ],
   "source": [
    "# print the shapes of our training and test set\n",
    "print(X_train.shape)\n",
    "print(X_test.shape)\n",
    "print(y_train.shape)\n",
    "print(y_test.shape)"
   ]
  },
  {
   "cell_type": "markdown",
   "metadata": {},
   "source": [
    "### Model Building with Random Forest Regressor"
   ]
  },
  {
   "cell_type": "code",
   "execution_count": 30,
   "metadata": {},
   "outputs": [
    {
     "name": "stdout",
     "output_type": "stream",
     "text": [
      "Execution time: 1.6235687732696533 sec\n"
     ]
    }
   ],
   "source": [
    "from sklearn.ensemble import RandomForestRegressor\n",
    "import time\n",
    "start_time = time.time()\n",
    "RF=RandomForestRegressor()\n",
    "# feeding the training data into the model\n",
    "RF.fit(X_train, y_train)\n",
    "print(\"Execution time: \" + str((time.time() - start_time)) + ' sec')"
   ]
  },
  {
   "cell_type": "code",
   "execution_count": 31,
   "metadata": {},
   "outputs": [],
   "source": [
    "# predicting the values for x-test\n",
    "predictions=RF.predict(X_test)"
   ]
  },
  {
   "cell_type": "code",
   "execution_count": 32,
   "metadata": {},
   "outputs": [
    {
     "name": "stdout",
     "output_type": "stream",
     "text": [
      "MAE: 463.93614231199905\n",
      "MSE: 448882.81443564955\n",
      "RMSE: 669.9871748292272\n"
     ]
    }
   ],
   "source": [
    "from sklearn import metrics\n",
    "print('MAE:', metrics.mean_absolute_error(y_test, predictions))\n",
    "print('MSE:', metrics.mean_squared_error(y_test, predictions))\n",
    "print('RMSE:', np.sqrt(metrics.mean_squared_error(y_test, predictions)))"
   ]
  },
  {
   "cell_type": "code",
   "execution_count": null,
   "metadata": {},
   "outputs": [],
   "source": []
  },
  {
   "cell_type": "code",
   "execution_count": null,
   "metadata": {},
   "outputs": [],
   "source": []
  }
 ],
 "metadata": {
  "kernelspec": {
   "display_name": "Python 3",
   "language": "python",
   "name": "python3"
  },
  "language_info": {
   "codemirror_mode": {
    "name": "ipython",
    "version": 3
   },
   "file_extension": ".py",
   "mimetype": "text/x-python",
   "name": "python",
   "nbconvert_exporter": "python",
   "pygments_lexer": "ipython3",
   "version": "3.8.5"
  }
 },
 "nbformat": 4,
 "nbformat_minor": 4
}
